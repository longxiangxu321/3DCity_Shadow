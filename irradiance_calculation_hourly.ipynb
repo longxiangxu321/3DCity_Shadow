{
 "cells": [
  {
   "cell_type": "code",
   "execution_count": 1,
   "id": "98c852e8-edef-468d-b905-2f447cba690f",
   "metadata": {},
   "outputs": [],
   "source": [
    "import pvlib\n",
    "import json\n",
    "import numpy as np\n",
    "import pandas as pd\n",
    "import os\n",
    "import time"
   ]
  },
  {
   "cell_type": "markdown",
   "id": "8f0eab6d-b660-4d12-b90e-df12a228753e",
   "metadata": {},
   "source": [
    "# 1. Define some relavent functions"
   ]
  },
  {
   "cell_type": "code",
   "execution_count": 5,
   "id": "417786ea-0e43-46d1-8af7-359d55a0043a",
   "metadata": {},
   "outputs": [],
   "source": [
    "def read_result(CFG):\n",
    "    # bin_file = CFG['shadow_calc']['shadow_results_path']\n",
    "    # grid_file = CFG['shadow_calc']['pointgrid_path']\n",
    "    # gmlid_file = CFG['shadow_calc']['gmlid_path']\n",
    "    # sunpos_file = CFG['study_area']['solar_positions_path']\n",
    "\n",
    "    output_root = os.path.join(CFG['study_area']['data_root'], \n",
    "                              CFG['shadow_calc']['output_folder_name'])\n",
    "    bin_file = os.path.join(output_root, 'shadow_result', 'results.bin')\n",
    "    grid_file = os.path.join(output_root, 'intermediate', 'grid.xyz')\n",
    "    gmlid_file = os.path.join(output_root, 'shadow_result', 'gmlids.csv')\n",
    "    sunpos_file = os.path.join(output_root, 'intermediate', 'sun_pos.csv')\n",
    "    \n",
    "    with open(bin_file, \"rb\") as file:\n",
    "        result_bin = np.fromfile(file, dtype=np.int32)\n",
    "        num_rows = result_bin[0]\n",
    "        num_cols = result_bin[1]  \n",
    "        # Remove the first two elements (number of rows and columns)\n",
    "        result_bin = result_bin[2:]\n",
    "\n",
    "        result_bin = result_bin.reshape((num_rows, num_cols))\n",
    "\n",
    "    point_grid = []\n",
    "    with open(grid_file, 'r') as file:\n",
    "        for line in file:\n",
    "            x, y, z, nx, ny, nz = line.split()\n",
    "            point_grid.append([float(x), float(y), float(z), float(nx), float(ny), float(nz)])\n",
    "\n",
    "    point_grid = np.array(point_grid)\n",
    "\n",
    "    gmlids = pd.read_csv(gmlid_file, header=None)\n",
    "    gmlids = gmlids[[0]]\n",
    "    gmlids.columns = ['gmlid']\n",
    "    sunpos = pd.read_csv(sunpos_file)\n",
    "    sunpos.columns.values[0]='timestamp'\n",
    "    gmlid_array = gmlids.to_numpy()\n",
    "\n",
    "    assert result_bin.shape[0] == point_grid.shape[0]==gmlids.shape[0]\n",
    "    assert result_bin.shape[1] == sunpos.shape[0]\n",
    "    print(\"Num of faces: \", gmlids['gmlid'].nunique())\n",
    "    print(\"Num of sample points: \", point_grid.shape[0])\n",
    "    print(\"Num of timestamps: \", result_bin.shape[1])\n",
    "    return result_bin, point_grid, gmlid_array, sunpos\n",
    "    "
   ]
  },
  {
   "cell_type": "code",
   "execution_count": 6,
   "id": "912242e2-406b-43f5-874f-4470efc26708",
   "metadata": {},
   "outputs": [],
   "source": [
    "def normal2angle(normal_vector):\n",
    "    # Ensure the normal vector is a NumPy array\n",
    "    normal_vector = np.array(normal_vector)\n",
    "\n",
    "    # Calculate the magnitude of the vector\n",
    "    magnitude = np.linalg.norm(normal_vector)\n",
    "\n",
    "    # Unpack the normalized vector components\n",
    "    nx, ny, nz = normal_vector / magnitude\n",
    "\n",
    "\n",
    "    tilt = np.degrees(np.arccos(nz))\n",
    "\n",
    "\n",
    "    # Calculate azimuth (angle from north, clockwise in the horizontal plane)\n",
    "    azimuth = np.degrees(np.arctan2(nx, ny))\n",
    "    \n",
    "    # Adjust azimuth to ensure it's between 0 and 360 degrees\n",
    "    if azimuth < 0:\n",
    "        azimuth += 360\n",
    "\n",
    "    return tilt, azimuth"
   ]
  },
  {
   "cell_type": "markdown",
   "id": "d89727e5-bc7a-444e-ab6b-e615818a300d",
   "metadata": {},
   "source": [
    "# 2. Main function"
   ]
  },
  {
   "cell_type": "markdown",
   "id": "284a2b3d-1b36-405e-811a-a44a2fcbf17e",
   "metadata": {},
   "source": [
    "## 2.1 obtain relavent data (shadow result)"
   ]
  },
  {
   "cell_type": "code",
   "execution_count": 7,
   "id": "c3bc1cdc-06ef-40ab-95b6-66a542fb2f9f",
   "metadata": {},
   "outputs": [
    {
     "name": "stdout",
     "output_type": "stream",
     "text": [
      "52.285126\n",
      "6.435649\n",
      "Num of faces:  42256\n",
      "Num of sample points:  664112\n",
      "Num of timestamps:  16\n"
     ]
    }
   ],
   "source": [
    "with open('config.json', 'r') as file:\n",
    "    CFG = json.load(file)\n",
    "    \n",
    "\n",
    "latitude = CFG['study_area']['lat']\n",
    "longitude = CFG['study_area']['long']\n",
    "print(latitude)\n",
    "print(longitude)\n",
    "result_bin, point_grid, gmlids, sunpos = read_result(CFG) # ndarray, ndarray, df, df\n",
    "\n",
    "merged_result = np.hstack((result_bin, point_grid, gmlids))\n",
    "\n",
    "indices = []\n",
    "\n",
    "# Iterate through gmlids to find start and end indices\n",
    "start_idx = 0\n",
    "unique_gmlids = []\n",
    "unique_gmlids.append(gmlids[0])\n",
    "for i in range(1, len(gmlids)):\n",
    "    if gmlids[i] != gmlids[i - 1]:\n",
    "        unique_gmlids.append(gmlids[i])\n",
    "        end_idx = i\n",
    "        indices.append((start_idx, end_idx))\n",
    "        start_idx = i\n",
    "# Add the last group\n",
    "indices.append((start_idx, len(gmlids)))\n",
    "\n",
    "# Initialize an array to store the aggregated results\n",
    "aggregated_data = np.empty((len(indices), merged_result.shape[1] - 1))\n",
    "\n",
    "# Calculate averages for each group\n",
    "for i, (start, end) in enumerate(indices):\n",
    "    aggregated_data[i, :] = np.mean(merged_result[start:end, :-1], axis=0)\n",
    "\n",
    "result_array = np.hstack((aggregated_data[:, :-6], aggregated_data[:, -3:]))\n",
    "\n"
   ]
  },
  {
   "cell_type": "markdown",
   "id": "d06a7fe1-d5de-4369-b1fb-5e4a531ac44e",
   "metadata": {},
   "source": [
    "## 2.2 Calculate the hourly irradiation, unit is W/m^2"
   ]
  },
  {
   "cell_type": "markdown",
   "id": "b19a679d-d27e-4b2d-b1e6-919df6f18415",
   "metadata": {},
   "source": [
    "### 2.2.1 Using tmy data"
   ]
  },
  {
   "cell_type": "markdown",
   "id": "e9812355-48ba-4217-a7a9-b1082c9ce808",
   "metadata": {
    "jp-MarkdownHeadingCollapsed": true
   },
   "source": [
    "Obtain and filter the tmy3 file to get the hourly data matched with the shadow result"
   ]
  },
  {
   "cell_type": "code",
   "execution_count": 8,
   "id": "9ea43b88-53fe-4e4e-ba98-5396d3b631d1",
   "metadata": {},
   "outputs": [],
   "source": [
    "tmy = pvlib.iotools.get_pvgis_tmy(latitude, longitude)\n",
    "\n",
    "irradiance_data = tmy[0]\n",
    "irradiance_data.index = pd.to_datetime(irradiance_data.index)\n",
    "\n",
    "sunpos['timestamp'] = pd.to_datetime(sunpos['timestamp'], utc=True)\n",
    "\n",
    "all_ghi = []\n",
    "all_dni = []\n",
    "all_dhi = []\n",
    "all_solar_zenith = []\n",
    "all_solar_azimuth = []\n",
    "for index, row in sunpos.iterrows():\n",
    "        row_time = row['timestamp'].tz_convert(irradiance_data.index.tz)\n",
    "        month, day, hour = row_time.month, row_time.day, row_time.hour\n",
    "        match = irradiance_data[(irradiance_data.index.month == month) & \n",
    "                    (irradiance_data.index.day == day) & \n",
    "                    (irradiance_data.index.hour == hour)]\n",
    "        solar_zenith = row['apparent_zenith']\n",
    "        solar_azimuth = row['azimuth']\n",
    "        if (not match.empty):\n",
    "            ghi, dni, dhi = match.iloc[0][['ghi', 'dni', 'dhi']]\n",
    "            all_ghi.append(ghi)\n",
    "            all_dni.append(dni)\n",
    "            all_dhi.append(dhi)\n",
    "            all_solar_zenith.append(solar_zenith)\n",
    "            all_solar_azimuth.append(solar_azimuth)\n",
    "        else:\n",
    "            print(\"error finding match\")"
   ]
  },
  {
   "cell_type": "markdown",
   "id": "8b7524d5-9341-4a74-b0da-b50c700aa8e6",
   "metadata": {},
   "source": [
    "Calculate the hourly irradiation, unit is W/m^2"
   ]
  },
  {
   "cell_type": "code",
   "execution_count": 9,
   "id": "cf596f4e-2484-44ee-a3ff-18be10ba5f3b",
   "metadata": {
    "scrolled": true
   },
   "outputs": [
    {
     "name": "stdout",
     "output_type": "stream",
     "text": [
      "1000 surfaces completed\n",
      "1000 surfaces completed. ETA: 0m 22s\n",
      "2000 surfaces completed\n",
      "2000 surfaces completed. ETA: 0m 22s\n",
      "3000 surfaces completed\n",
      "3000 surfaces completed. ETA: 0m 22s\n",
      "4000 surfaces completed\n",
      "4000 surfaces completed. ETA: 0m 21s\n",
      "5000 surfaces completed\n",
      "5000 surfaces completed. ETA: 0m 21s\n",
      "6000 surfaces completed\n",
      "6000 surfaces completed. ETA: 0m 20s\n",
      "7000 surfaces completed\n",
      "7000 surfaces completed. ETA: 0m 20s\n",
      "8000 surfaces completed\n",
      "8000 surfaces completed. ETA: 0m 20s\n",
      "9000 surfaces completed\n",
      "9000 surfaces completed. ETA: 0m 19s\n",
      "10000 surfaces completed\n",
      "10000 surfaces completed. ETA: 0m 19s\n",
      "11000 surfaces completed\n",
      "11000 surfaces completed. ETA: 0m 18s\n",
      "12000 surfaces completed\n",
      "12000 surfaces completed. ETA: 0m 18s\n",
      "13000 surfaces completed\n",
      "13000 surfaces completed. ETA: 0m 17s\n",
      "14000 surfaces completed\n",
      "14000 surfaces completed. ETA: 0m 16s\n",
      "15000 surfaces completed\n",
      "15000 surfaces completed. ETA: 0m 16s\n",
      "16000 surfaces completed\n",
      "16000 surfaces completed. ETA: 0m 15s\n",
      "17000 surfaces completed\n",
      "17000 surfaces completed. ETA: 0m 15s\n",
      "18000 surfaces completed\n",
      "18000 surfaces completed. ETA: 0m 14s\n",
      "19000 surfaces completed\n",
      "19000 surfaces completed. ETA: 0m 13s\n",
      "20000 surfaces completed\n",
      "20000 surfaces completed. ETA: 0m 13s\n",
      "21000 surfaces completed\n",
      "21000 surfaces completed. ETA: 0m 12s\n",
      "22000 surfaces completed\n",
      "22000 surfaces completed. ETA: 0m 12s\n",
      "23000 surfaces completed\n",
      "23000 surfaces completed. ETA: 0m 11s\n",
      "24000 surfaces completed\n",
      "24000 surfaces completed. ETA: 0m 10s\n",
      "25000 surfaces completed\n",
      "25000 surfaces completed. ETA: 0m 10s\n",
      "26000 surfaces completed\n",
      "26000 surfaces completed. ETA: 0m 9s\n",
      "27000 surfaces completed\n",
      "27000 surfaces completed. ETA: 0m 9s\n",
      "28000 surfaces completed\n",
      "28000 surfaces completed. ETA: 0m 8s\n",
      "29000 surfaces completed\n",
      "29000 surfaces completed. ETA: 0m 8s\n",
      "30000 surfaces completed\n",
      "30000 surfaces completed. ETA: 0m 7s\n",
      "31000 surfaces completed\n",
      "31000 surfaces completed. ETA: 0m 6s\n",
      "32000 surfaces completed\n",
      "32000 surfaces completed. ETA: 0m 6s\n",
      "33000 surfaces completed\n",
      "33000 surfaces completed. ETA: 0m 5s\n",
      "34000 surfaces completed\n",
      "34000 surfaces completed. ETA: 0m 5s\n",
      "35000 surfaces completed\n",
      "35000 surfaces completed. ETA: 0m 4s\n",
      "36000 surfaces completed\n",
      "36000 surfaces completed. ETA: 0m 4s\n",
      "37000 surfaces completed\n",
      "37000 surfaces completed. ETA: 0m 3s\n",
      "38000 surfaces completed\n",
      "38000 surfaces completed. ETA: 0m 2s\n",
      "39000 surfaces completed\n",
      "39000 surfaces completed. ETA: 0m 2s\n",
      "40000 surfaces completed\n",
      "40000 surfaces completed. ETA: 0m 1s\n",
      "41000 surfaces completed\n",
      "41000 surfaces completed. ETA: 0m 1s\n",
      "42000 surfaces completed\n",
      "42000 surfaces completed. ETA: 0m 0s\n"
     ]
    }
   ],
   "source": [
    "result_arr = []\n",
    "start_time = time.time()\n",
    "for i in range(result_array.shape[0]):\n",
    "    point_result = []\n",
    "    surface_normal = result_array[i][-3:]\n",
    "    surface_tilt, surface_azimuth = normal2angle(surface_normal)\n",
    "    for j in range(len(all_ghi)):\n",
    "            poa = pvlib.irradiance.get_total_irradiance(surface_tilt, surface_azimuth, \n",
    "                                                        all_solar_zenith[j],\n",
    "                                                        all_solar_azimuth[j], \n",
    "                                                        all_dni[j], all_ghi[j], all_dhi[j])\n",
    "            direct = poa['poa_direct']\n",
    "            diffuse = poa['poa_diffuse']\n",
    "            irradiance = direct * result_array[i][index] + diffuse\n",
    "            point_result.append(irradiance)\n",
    "\n",
    "    result_arr.append(point_result)\n",
    "    if i%1000==0 and i > 0:\n",
    "        print(\"{} surfaces completed\".format(i))\n",
    "        elapsed_time = time.time() - start_time\n",
    "        average_time_per_iteration = elapsed_time / i\n",
    "        remaining_iterations = result_array.shape[0] - i\n",
    "        eta_seconds = remaining_iterations * average_time_per_iteration\n",
    "        eta_minutes, eta_seconds = divmod(eta_seconds, 60)  # Convert ETA to minutes and seconds\n",
    "        print(\"{} surfaces completed. ETA: {:.0f}m {:.0f}s\".format(i, eta_minutes, eta_seconds))\n",
    "        \n",
    "        \n",
    "total_arr = np.array(result_arr)"
   ]
  },
  {
   "cell_type": "code",
   "execution_count": 12,
   "id": "ec008c62-6d19-4a47-8054-5ce8a6f21bb3",
   "metadata": {},
   "outputs": [],
   "source": [
    "unique_gmlids_arr = np.array(unique_gmlids)"
   ]
  },
  {
   "cell_type": "markdown",
   "id": "50c4ae58-ef2f-4483-bf04-85680fe1be34",
   "metadata": {
    "jp-MarkdownHeadingCollapsed": true
   },
   "source": [
    "### 2.2.2 Using pvgis tool"
   ]
  },
  {
   "cell_type": "code",
   "execution_count": null,
   "id": "8de65eab-cd37-4f76-b8f2-a838e3685047",
   "metadata": {},
   "outputs": [],
   "source": [
    "# result_arr = []\n",
    "# for i in range(result_array.shape[0]):\n",
    "#     point_result = []\n",
    "#     surface_normal = result_array[i][-3:]\n",
    "#     surface_tilt, surface_azimuth = normal2angle(surface_normal)\n",
    "#     for j in range(len(all_ghi)):\n",
    "#             poa = pvlib.irradiance.get_total_irradiance(surface_tilt, surface_azimuth, \n",
    "#                                                         all_solar_zenith[j],\n",
    "#                                                         all_solar_azimuth[j], \n",
    "#                                                         all_dni[j], all_ghi[j], all_dhi[j])\n",
    "#             direct = poa['poa_global']\n",
    "#             diffuse = poa['poa_diffuse']\n",
    "#             irradiance = direct * result_array[i][index] + diffuse\n",
    "#             point_result.append(irradiance)\n",
    "\n",
    "#     result_arr.append(point_result)\n",
    "#     if i%1000==0:\n",
    "#         print(\"{} surfaces completed\".format(i))\n",
    "        \n",
    "        \n",
    "# total_arr = np.array(result_arr)"
   ]
  },
  {
   "cell_type": "code",
   "execution_count": 19,
   "id": "a2ad9e92-6f95-4bd7-87a0-4cde5933b508",
   "metadata": {},
   "outputs": [
    {
     "name": "stdout",
     "output_type": "stream",
     "text": [
      "Function running time: 3.1554272174835205 seconds\n",
      "Function running time: 0.0 seconds\n"
     ]
    }
   ],
   "source": [
    "# surface_normal = result_array[0][-3:]\n",
    "# surface_tilt, surface_azimuth = normal2angle(surface_normal)\n",
    "# import time\n",
    "# start_time = time.time()\n",
    "# pv_result = pvlib.iotools.get_pvgis_hourly(latitude, longitude, CFG['study_area']['start_time'],\n",
    "#                                           CFG['study_area']['end_time'], surface_tilt=surface_tilt, \n",
    "#                                            surface_azimuth = surface_azimuth)\n",
    "# end_time = time.time()\n",
    "# print(f\"Function running time: {end_time - start_time} seconds\")\n",
    "\n",
    "# start_time = time.time()\n",
    "# poa = pvlib.irradiance.get_total_irradiance(surface_tilt, surface_azimuth, \n",
    "#                                             all_solar_zenith[0],\n",
    "#                                             all_solar_azimuth[0], \n",
    "#                                             all_dni[0], all_ghi[0], all_dhi[0])\n",
    "# end_time = time.time()\n",
    "# print(f\"Function running time: {end_time - start_time} seconds\")"
   ]
  },
  {
   "cell_type": "code",
   "execution_count": 13,
   "id": "077db568-4ea2-47fc-90b2-c1c407dad0f1",
   "metadata": {},
   "outputs": [
    {
     "data": {
      "text/plain": [
       "(                           poa_direct  poa_sky_diffuse  poa_ground_diffuse  \\\n",
       " time                                                                         \n",
       " 2013-01-01 00:11:00+00:00         0.0              0.0                 0.0   \n",
       " 2013-01-01 01:11:00+00:00         0.0              0.0                 0.0   \n",
       " 2013-01-01 02:11:00+00:00         0.0              0.0                 0.0   \n",
       " 2013-01-01 03:11:00+00:00         0.0              0.0                 0.0   \n",
       " 2013-01-01 04:11:00+00:00         0.0              0.0                 0.0   \n",
       " ...                               ...              ...                 ...   \n",
       " 2014-12-31 19:11:00+00:00         0.0              0.0                 0.0   \n",
       " 2014-12-31 20:11:00+00:00         0.0              0.0                 0.0   \n",
       " 2014-12-31 21:11:00+00:00         0.0              0.0                 0.0   \n",
       " 2014-12-31 22:11:00+00:00         0.0              0.0                 0.0   \n",
       " 2014-12-31 23:11:00+00:00         0.0              0.0                 0.0   \n",
       " \n",
       "                            solar_elevation  temp_air  wind_speed  Int  \n",
       " time                                                                   \n",
       " 2013-01-01 00:11:00+00:00              0.0      9.16        7.39    0  \n",
       " 2013-01-01 01:11:00+00:00              0.0      9.08        7.20    0  \n",
       " 2013-01-01 02:11:00+00:00              0.0      9.00        7.01    0  \n",
       " 2013-01-01 03:11:00+00:00              0.0      8.92        6.81    0  \n",
       " 2013-01-01 04:11:00+00:00              0.0      8.73        6.10    0  \n",
       " ...                                    ...       ...         ...  ...  \n",
       " 2014-12-31 19:11:00+00:00              0.0      6.03        3.76    0  \n",
       " 2014-12-31 20:11:00+00:00              0.0      6.00        4.03    0  \n",
       " 2014-12-31 21:11:00+00:00              0.0      5.97        4.30    0  \n",
       " 2014-12-31 22:11:00+00:00              0.0      5.97        4.30    0  \n",
       " 2014-12-31 23:11:00+00:00              0.0      5.97        4.30    0  \n",
       " \n",
       " [17520 rows x 7 columns],\n",
       " {'location': {'latitude': 51.93155029201221,\n",
       "   'longitude': 4.476060960827012,\n",
       "   'elevation': 5.0},\n",
       "  'meteo_data': {'radiation_db': 'PVGIS-SARAH',\n",
       "   'meteo_db': 'ERA-Interim',\n",
       "   'year_min': 2013,\n",
       "   'year_max': 2014,\n",
       "   'use_horizon': True,\n",
       "   'horizon_db': None,\n",
       "   'horizon_data': 'DEM-calculated'},\n",
       "  'mounting_system': {'fixed': {'slope': {'value': 90, 'optimal': False},\n",
       "    'azimuth': {'value': 178, 'optimal': False},\n",
       "    'type': 'free-standing'}},\n",
       "  'pv_module': {'technology': None, 'peak_power': None, 'system_loss': None}},\n",
       " {'inputs': {'location': {'description': 'Selected location',\n",
       "    'variables': {'latitude': {'description': 'Latitude',\n",
       "      'units': 'decimal degree'},\n",
       "     'longitude': {'description': 'Longitude', 'units': 'decimal degree'},\n",
       "     'elevation': {'description': 'Elevation', 'units': 'm'}}},\n",
       "   'meteo_data': {'description': 'Sources of meteorological data',\n",
       "    'variables': {'radiation_db': {'description': 'Solar radiation database'},\n",
       "     'meteo_db': {'description': 'Database used for meteorological variables other than solar radiation'},\n",
       "     'year_min': {'description': 'First year of the calculations'},\n",
       "     'year_max': {'description': 'Last year of the calculations'},\n",
       "     'use_horizon': {'description': 'Include horizon shadows'},\n",
       "     'horizon_db': {'description': 'Source of horizon data'}}},\n",
       "   'mounting_system': {'description': 'Mounting system',\n",
       "    'choices': 'fixed, vertical_axis, inclined_axis, two_axis',\n",
       "    'fields': {'slope': {'description': 'Inclination angle from the horizontal plane',\n",
       "      'units': 'degree'},\n",
       "     'azimuth': {'description': 'Orientation (azimuth) angle of the (fixed) PV system (0 = S, 90 = W, -90 = E)',\n",
       "      'units': 'degree'}}},\n",
       "   'pv_module': {'description': 'PV module parameters',\n",
       "    'variables': {'technology': {'description': 'PV technology'},\n",
       "     'peak_power': {'description': 'Nominal (peak) power of the PV module',\n",
       "      'units': 'kW'},\n",
       "     'system_loss': {'description': 'Sum of system losses', 'units': '%'}}}},\n",
       "  'outputs': {'hourly': {'type': 'time series',\n",
       "    'timestamp': 'hourly averages',\n",
       "    'variables': {'Gb(i)': {'description': 'Beam (direct) irradiance on the inclined plane (plane of the array)',\n",
       "      'units': 'W/m2'},\n",
       "     'Gd(i)': {'description': 'Diffuse irradiance on the inclined plane (plane of the array)',\n",
       "      'units': 'W/m2'},\n",
       "     'Gr(i)': {'description': 'Reflected irradiance on the inclined plane (plane of the array)',\n",
       "      'units': 'W/m2'},\n",
       "     'H_sun': {'description': 'Sun height', 'units': 'degree'},\n",
       "     'T2m': {'description': '2-m air temperature', 'units': 'degree Celsius'},\n",
       "     'WS10m': {'description': '10-m total wind speed', 'units': 'm/s'},\n",
       "     'Int': {'description': '1 means solar radiation values are reconstructed'}}}}})"
      ]
     },
     "execution_count": 13,
     "metadata": {},
     "output_type": "execute_result"
    }
   ],
   "source": [
    "# pv_result"
   ]
  },
  {
   "cell_type": "markdown",
   "id": "9641376c-45ae-4e49-809b-dd2b2ee06413",
   "metadata": {},
   "source": [
    "# 3. Save result to npz file"
   ]
  },
  {
   "cell_type": "code",
   "execution_count": 15,
   "id": "59a284d1-a9ca-43cc-8818-a7d58fb7ede9",
   "metadata": {},
   "outputs": [],
   "source": [
    "\n",
    "save_folder = os.path.join(CFG['study_area']['data_root'], \n",
    "                          CFG['shadow_calc']['output_folder_name'], 'irradiance_result')\n",
    "os.makedirs(save_folder, exist_ok=True)\n",
    "save_path = os.path.join(save_folder, \"hourly_irradiance.npz\")\n",
    "np.savez(save_path, gmlids=unique_gmlids_arr, hourly_irradiance=total_arr)"
   ]
  },
  {
   "cell_type": "markdown",
   "id": "e2e57fa6-6069-4165-8cf6-6191de8ad5df",
   "metadata": {},
   "source": [
    "# 4. Load saved npz file"
   ]
  },
  {
   "cell_type": "code",
   "execution_count": 16,
   "id": "9b8697c6-6f9c-4ae8-b056-fa6d56c86fc8",
   "metadata": {},
   "outputs": [],
   "source": [
    "result_test = np.load(save_path, allow_pickle=True)"
   ]
  },
  {
   "cell_type": "code",
   "execution_count": 17,
   "id": "01bfc780-e184-48b2-8780-7bf278129a36",
   "metadata": {},
   "outputs": [],
   "source": [
    "gmlid_list = result_test['gmlids']"
   ]
  },
  {
   "cell_type": "code",
   "execution_count": 18,
   "id": "7756a688-3182-4306-a06e-c87068e0b586",
   "metadata": {},
   "outputs": [],
   "source": [
    "irradiance_data = result_test['hourly_irradiance']"
   ]
  },
  {
   "cell_type": "code",
   "execution_count": 19,
   "id": "2d0c62ee-fe89-42f4-a0ed-20572c9099cc",
   "metadata": {},
   "outputs": [
    {
     "data": {
      "text/plain": [
       "(42256, 16)"
      ]
     },
     "execution_count": 19,
     "metadata": {},
     "output_type": "execute_result"
    }
   ],
   "source": [
    "irradiance_data.shape"
   ]
  },
  {
   "cell_type": "code",
   "execution_count": 20,
   "id": "10fdb563-aeac-47d4-af36-9458a12a69ca",
   "metadata": {},
   "outputs": [
    {
     "data": {
      "text/plain": [
       "(42256, 1)"
      ]
     },
     "execution_count": 20,
     "metadata": {},
     "output_type": "execute_result"
    }
   ],
   "source": [
    "gmlid_list.shape"
   ]
  },
  {
   "cell_type": "code",
   "execution_count": null,
   "id": "060c9589-6cf1-479a-97aa-1ab248782b01",
   "metadata": {},
   "outputs": [],
   "source": []
  }
 ],
 "metadata": {
  "kernelspec": {
   "display_name": "Python 3 (ipykernel)",
   "language": "python",
   "name": "python3"
  },
  "language_info": {
   "codemirror_mode": {
    "name": "ipython",
    "version": 3
   },
   "file_extension": ".py",
   "mimetype": "text/x-python",
   "name": "python",
   "nbconvert_exporter": "python",
   "pygments_lexer": "ipython3",
   "version": "3.9.18"
  }
 },
 "nbformat": 4,
 "nbformat_minor": 5
}
